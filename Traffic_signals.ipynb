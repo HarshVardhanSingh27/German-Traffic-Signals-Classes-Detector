{
 "cells": [
  {
   "cell_type": "code",
   "execution_count": 1,
   "metadata": {},
   "outputs": [],
   "source": [
    "import numpy as np\n",
    "import pandas as pd\n",
    "import matplotlib.pyplot as plt\n",
    "from PIL import Image\n",
    "import tensorflow as tf\n",
    "from sklearn.model_selection import train_test_split\n",
    "import os\n",
    "import cv2"
   ]
  },
  {
   "cell_type": "code",
   "execution_count": 2,
   "metadata": {},
   "outputs": [],
   "source": [
    "data = []\n",
    "labels = []\n",
    "num_classes = 43\n",
    "\n",
    "\n",
    "for i in range(num_classes):\n",
    "    path = os.path.join(\"E:\\kaggle projects\\Traffic Sign\\Train\", str(i))\n",
    "    images = os.listdir(path)\n",
    "\n",
    "    for j in images:\n",
    "        image = Image.open(path + '\\\\' + j)\n",
    "        image = image.resize((64,64))\n",
    "        image = np.asarray(image)\n",
    "        data.append(image)\n",
    "        labels.append(i)"
   ]
  },
  {
   "cell_type": "code",
   "execution_count": 3,
   "metadata": {},
   "outputs": [
    {
     "name": "stdout",
     "output_type": "stream",
     "text": [
      "(39209, 64, 64, 3) (39209,)\n"
     ]
    }
   ],
   "source": [
    "data = np.array(data)\n",
    "labels = np.array(labels)\n",
    "print(data.shape, labels.shape)"
   ]
  },
  {
   "cell_type": "code",
   "execution_count": 4,
   "metadata": {},
   "outputs": [
    {
     "name": "stdout",
     "output_type": "stream",
     "text": [
      "Training Set Shape: (31367, 64, 64, 3)(31367, 43)\n",
      "Validation Set Shape: (7842, 64, 64, 3)(7842, 43)\n"
     ]
    }
   ],
   "source": [
    "X_train, X_val, Y_train, Y_val = train_test_split(data, labels, test_size=0.2)\n",
    "\n",
    "Y_train = tf.keras.utils.to_categorical(Y_train, 43)\n",
    "Y_val = tf.keras.utils.to_categorical(Y_val, 43)\n",
    "\n",
    "print('Training Set Shape: ' + str(X_train.shape)+ str(Y_train.shape))\n",
    "print('Validation Set Shape: ' + str(X_val.shape) + str(Y_val.shape))\n"
   ]
  },
  {
   "cell_type": "code",
   "execution_count": 5,
   "metadata": {},
   "outputs": [],
   "source": [
    "model = tf.keras.Sequential([\n",
    "    tf.keras.layers.Conv2D(filters = 32, kernel_size=(5,5), activation='relu', input_shape = X_train.shape[1:]),\n",
    "    tf.keras.layers.Conv2D(filters = 64, kernel_size=(5,5), activation='relu'),\n",
    "    tf.keras.layers.MaxPool2D(pool_size = (2,2)),\n",
    "    tf.keras.layers.Dropout(0.2),\n",
    "    tf.keras.layers.Conv2D(filters = 128, kernel_size=(3,3), activation='relu'),\n",
    "    tf.keras.layers.MaxPool2D(pool_size=(2,2)),\n",
    "    tf.keras.layers.Dropout(rate=0.25),\n",
    "    tf.keras.layers.Flatten(),\n",
    "    tf.keras.layers.Dense(1024, activation=\"relu\"),\n",
    "    tf.keras.layers.Dropout(rate=0.40),\n",
    "    tf.keras.layers.Dense(43, activation=\"softmax\"),\n",
    "])"
   ]
  },
  {
   "cell_type": "code",
   "execution_count": 6,
   "metadata": {},
   "outputs": [],
   "source": [
    "model.compile(optimizer='adam', loss = 'categorical_crossentropy', metrics = ['accuracy'])"
   ]
  },
  {
   "cell_type": "code",
   "execution_count": 7,
   "metadata": {},
   "outputs": [
    {
     "name": "stdout",
     "output_type": "stream",
     "text": [
      "Epoch 1/10\n",
      "491/491 [==============================] - 593s 1s/step - loss: 1.9899 - accuracy: 0.6757 - val_loss: 0.1957 - val_accuracy: 0.9560\n",
      "Epoch 2/10\n",
      "491/491 [==============================] - 526s 1s/step - loss: 0.2512 - accuracy: 0.9313 - val_loss: 0.1051 - val_accuracy: 0.9750\n",
      "Epoch 3/10\n",
      "491/491 [==============================] - 531s 1s/step - loss: 0.1599 - accuracy: 0.9562 - val_loss: 0.0959 - val_accuracy: 0.9768\n",
      "Epoch 4/10\n",
      "491/491 [==============================] - 584s 1s/step - loss: 0.1274 - accuracy: 0.9645 - val_loss: 0.0573 - val_accuracy: 0.9866\n",
      "Epoch 5/10\n",
      "491/491 [==============================] - 606s 1s/step - loss: 0.1377 - accuracy: 0.9655 - val_loss: 0.0849 - val_accuracy: 0.9842\n",
      "Epoch 6/10\n",
      "491/491 [==============================] - 504s 1s/step - loss: 0.1220 - accuracy: 0.9703 - val_loss: 0.0569 - val_accuracy: 0.9876\n",
      "Epoch 7/10\n",
      "491/491 [==============================] - 512s 1s/step - loss: 0.0924 - accuracy: 0.9776 - val_loss: 0.0612 - val_accuracy: 0.9890\n",
      "Epoch 8/10\n",
      "491/491 [==============================] - 548s 1s/step - loss: 0.1105 - accuracy: 0.9737 - val_loss: 0.0648 - val_accuracy: 0.9888\n",
      "Epoch 9/10\n",
      "491/491 [==============================] - 605s 1s/step - loss: 0.1334 - accuracy: 0.9707 - val_loss: 0.0525 - val_accuracy: 0.9901\n",
      "Epoch 10/10\n",
      "491/491 [==============================] - 601s 1s/step - loss: 0.0866 - accuracy: 0.9803 - val_loss: 0.0786 - val_accuracy: 0.9864\n"
     ]
    }
   ],
   "source": [
    "hist = model.fit(X_train, Y_train, epochs = 10, batch_size = 64, validation_data=(X_val, Y_val))"
   ]
  },
  {
   "cell_type": "code",
   "execution_count": 8,
   "metadata": {},
   "outputs": [
    {
     "name": "stdout",
     "output_type": "stream",
     "text": [
      "(12630, 64, 64, 3)\n",
      "[16  1 38 ...  6  7 10]\n"
     ]
    }
   ],
   "source": [
    "from sklearn.metrics import accuracy_score\n",
    "test_df = pd.read_csv(\"E:\\kaggle projects\\Traffic Sign\\Test.csv\")\n",
    "test_labels = test_df['ClassId'].to_numpy()\n",
    "imgs = test_df['Path']\n",
    "\n",
    "test_data = []\n",
    "for img in imgs:\n",
    "    i = Image.open(\"E:\\kaggle projects\\Traffic Sign\" + '/' + img )\n",
    "    i = i.resize((64,64))\n",
    "    i = np.array(i)\n",
    "    test_data.append(i)\n",
    "test_data = np.array(test_data)\n",
    "print(test_data.shape)\n",
    "print(test_labels)"
   ]
  },
  {
   "cell_type": "code",
   "execution_count": 9,
   "metadata": {},
   "outputs": [
    {
     "name": "stdout",
     "output_type": "stream",
     "text": [
      "Accuracy of test_data:  0.9515439429928741\n"
     ]
    }
   ],
   "source": [
    "import warnings \n",
    "warnings.filterwarnings(\"ignore\")\n",
    "\n",
    "pred = model.predict(test_data)\n",
    "predicted_classes = np.argmax(pred, axis = 1)\n",
    "print('Accuracy of test_data: ' , accuracy_score(test_labels, predicted_classes))"
   ]
  },
  {
   "cell_type": "code",
   "execution_count": 10,
   "metadata": {},
   "outputs": [
    {
     "data": {
      "image/png": "[encoded data removed]",
      "text/plain": [
       "<Figure size 432x288 with 1 Axes>"
      ]
     },
     "metadata": {
      "needs_background": "light"
     },
     "output_type": "display_data"
    },
    {
     "data": {
      "image/png": "[encoded data removed]",
      "text/plain": [
       "<Figure size 432x288 with 1 Axes>"
      ]
     },
     "metadata": {
      "needs_background": "light"
     },
     "output_type": "display_data"
    }
   ],
   "source": [
    "plt.figure(0)\n",
    "plt.plot(hist.history['accuracy'], label=\"Training accuracy\")\n",
    "plt.plot(hist.history['val_accuracy'], label=\"val accuracy\")\n",
    "plt.title(\"Accuracy Graph\")\n",
    "plt.xlabel(\"epochs\")\n",
    "plt.ylabel(\"accuracy (0,1)\")\n",
    "plt.legend()\n",
    "\n",
    "plt.figure(1)\n",
    "plt.plot(hist.history['loss'], label=\"training loss\")\n",
    "plt.plot(hist.history['val_loss'], label=\"val loss\")\n",
    "plt.title(\"Loss Graph\")\n",
    "plt.xlabel(\"epochs\")\n",
    "plt.ylabel(\"Loss\")\n",
    "plt.legend()\n",
    "plt.show()"
   ]
  },
  {
   "cell_type": "code",
   "execution_count": 11,
   "metadata": {},
   "outputs": [],
   "source": [
    "model.save('German_traffic_signal.h5')"
   ]
  }
 ],
 "metadata": {
  "kernelspec": {
   "display_name": "Python 3.9.7 ('base')",
   "language": "python",
   "name": "python3"
  },
  "language_info": {
   "codemirror_mode": {
    "name": "ipython",
    "version": 3
   },
   "file_extension": ".py",
   "mimetype": "text/x-python",
   "name": "python",
   "nbconvert_exporter": "python",
   "pygments_lexer": "ipython3",
   "version": "3.9.7"
  },
  "orig_nbformat": 4,
  "vscode": {
   "interpreter": {
    "hash": "198657135eb8ed658e5771982495b664a4c2babce9f3388be0e55a48f2da64bc"
   }
  }
 },
 "nbformat": 4,
 "nbformat_minor": 2
}
